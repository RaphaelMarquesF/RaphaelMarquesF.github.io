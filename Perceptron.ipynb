{
  "nbformat": 4,
  "nbformat_minor": 0,
  "metadata": {
    "colab": {
      "name": "Perceptron",
      "provenance": [],
      "collapsed_sections": [],
      "authorship_tag": "ABX9TyNemuyGmeX6b7+mUr/T+PyH",
      "include_colab_link": true
    },
    "kernelspec": {
      "name": "python3",
      "display_name": "Python 3"
    },
    "language_info": {
      "name": "python"
    }
  },
  "cells": [
    {
      "cell_type": "markdown",
      "metadata": {
        "id": "view-in-github",
        "colab_type": "text"
      },
      "source": [
        "<a href=\"https://colab.research.google.com/github/RaphaelMarquesF/RaphaelMarquesF.github.io/blob/master/Perceptron.ipynb\" target=\"_parent\"><img src=\"https://colab.research.google.com/assets/colab-badge.svg\" alt=\"Open In Colab\"/></a>"
      ]
    },
    {
      "cell_type": "markdown",
      "metadata": {
        "id": "pOp0mxgQnswM"
      },
      "source": [
        "**Perceptron**\n",
        "\n",
        "*por Raphael Marques*\n",
        "\n",
        "Este projeto tem como objetivo criar um perceptron básico para treino e estudo. Aos poucos vou atualizando ele. Pretendo fazer mais coisas assim \"na mão\". \n",
        "\n",
        "O perceptron é um algoritmo baseado no modelo de um neuronio criado em 1958 por Frank Rosenblatt.Funciona bem para problemas que podem ser separados linearmente. Pode ser entendido como um classificador binário.\n",
        "\n",
        "Ele é o precursor das Redes Neurais. As redes neurais foram desenvolvidas basicamente para resolver o problema da limitação do perceptron que é o fato de que ele não resolver problemas que não podem ser separados linearmente.\n",
        "\n",
        "Pode ser dividido nas partes:\n",
        "\n",
        "1. **Entradas** (Inputs) = array com dados de entradas;\n",
        "2. **Pesos** (inicialmente aleatórios);\n",
        "3. **Função Soma** (Soma dos produtos de pesos e entradas + um bias aleatório);\n",
        "4. **Função de ativação** = Um critério para soma. Caso a soma seja menor que o critério, atualiza-se os pesos (com a função de **Update**) até que se tenha a saida desejada;\n",
        "\n",
        "Qualquer dúvida, erro ou ideia estou disposto a ouvir! fale comigo no Linkedin https://www.linkedin.com/in/raphael-marques-f/\n"
      ]
    },
    {
      "cell_type": "code",
      "metadata": {
        "id": "rpqdyjD6s04c"
      },
      "source": [
        "#Importanto as bibliotecas basicas\n",
        "# Numpy para manipulação básica das matrizes(arrays)\n",
        "import numpy as np\n",
        "import matplotlib.pyplot as plt\n"
      ],
      "execution_count": 1,
      "outputs": []
    },
    {
      "cell_type": "markdown",
      "metadata": {
        "id": "o-jdp1afLZ0y"
      },
      "source": [
        "# Perceptron"
      ]
    },
    {
      "cell_type": "code",
      "metadata": {
        "id": "JOmG-fdIm6or"
      },
      "source": [
        "# Classe Perceptron \n",
        "class Perceptron:\n",
        "\n",
        "  def __init__(self, inputs, target = 1,ativacao = 0.5, learning_rate=0.95, epochs = 2):\n",
        "    # Entradas(que podem ser arrays)\n",
        "    self.inputs = inputs\n",
        "    # Target ou alvo, que pode ser mudado\n",
        "    self.target =  target\n",
        "    # Valor minimo para ativação da função\n",
        "    self.ativacao = ativacao\n",
        "    # Taxa de aprendizado pra regra de Update\n",
        "    self.learning_rate =  learning_rate\n",
        "    # Quantidade de Updates para cada peso\n",
        "    self.epochs = epochs\n",
        "    # Saida inicial do perceptron\n",
        "    self.saida = 0\n",
        "\n",
        "\n",
        "    # Pesos iniciais aleatórios\n",
        "    self.weights = np.random.random(inputs.shape) #inicialmente aleatórios\n",
        "    \n",
        "    # Função de Soma\n",
        "    self.somatorio = sum(self.weights * self.inputs) + 0.01 \n",
        "    \n",
        "    # Calculo do Erro\n",
        "    self.erro = (self.target - self.somatorio)**2 \n",
        "    \n",
        "    # Relatorio Inicial\n",
        "    print(\"Relatorio Inicial\")\n",
        "    print(\"inputs:\",self.inputs)\n",
        "    print(\"target:\",self.target)\n",
        "    print(\"Pesos iniciais:\",self.weights)\n",
        "    print(\"somatorio:\",self.somatorio)\n",
        "    print('\\n')  \n",
        "\n",
        "    #Funcao de Ativacao\n",
        "    if (self.somatorio <= self.ativacao):\n",
        "      # Se o somatorio é menor que o valor de ativação, perceptron é ativado\n",
        "      self.saida = 1\n",
        "      print('saida inicial OK',self.saida)\n",
        "    # Se o somatorio for  menor, os pesos se atualizam ate que o somatorio seja proximo ao valor de ativação\n",
        "    else:\n",
        "     for i in range(self.epochs):\n",
        "      for w in self.weights:\n",
        "        update = self.weights + (self.learning_rate * ((self.ativacao - self.somatorio)*self.inputs))\n",
        "        self.weights = update\n",
        "        self.somatorio = sum(self.weights * self.inputs) + 0.01 \n",
        "        self.erro = (self.target - self.somatorio)**2\n",
        "        self.saida = 1\n",
        "        \n",
        "         # Relatorio Atualizado\n",
        "        print('Relatorio Atualizado')\n",
        "        print('peso atualizado',update)\n",
        "        print('somatorio atualizado',self.somatorio)\n",
        "        print('erro',self.erro)\n",
        "        print('saida atualizada',self.saida)\n",
        "        print('\\n')\n",
        "      \n",
        "\n"
      ],
      "execution_count": 41,
      "outputs": []
    },
    {
      "cell_type": "markdown",
      "metadata": {
        "id": "dEBcxulbLWca"
      },
      "source": [
        "## Testes"
      ]
    },
    {
      "cell_type": "code",
      "metadata": {
        "id": "hGP_FL7zqWlh",
        "colab": {
          "base_uri": "https://localhost:8080/"
        },
        "outputId": "137d087a-2e9b-4d05-ff3f-016e08e725ea"
      },
      "source": [
        "# Teste com entradas 1 e 0\n",
        "array1 = np.array([1,0])\n",
        "\n",
        "p1 = Perceptron(array1)"
      ],
      "execution_count": 44,
      "outputs": [
        {
          "output_type": "stream",
          "name": "stdout",
          "text": [
            "Relatorio Inicial\n",
            "inputs: [1 0]\n",
            "target: 1\n",
            "Pesos iniciais: [0.07304611 0.61660564]\n",
            "somatorio: 0.08304610743448325\n",
            "\n",
            "\n",
            "saida inicial OK 1\n"
          ]
        }
      ]
    },
    {
      "cell_type": "code",
      "metadata": {
        "colab": {
          "base_uri": "https://localhost:8080/"
        },
        "id": "ROCFHRvOL8Kz",
        "outputId": "7872fab1-8d4d-43ba-c401-e63b39147b50"
      },
      "source": [
        "# Teste com entradas 0 e 0\n",
        "array2 = np.array([0,0])\n",
        "\n",
        "p2 = Perceptron(array1)"
      ],
      "execution_count": 45,
      "outputs": [
        {
          "output_type": "stream",
          "name": "stdout",
          "text": [
            "Relatorio Inicial\n",
            "inputs: [1 0]\n",
            "target: 1\n",
            "Pesos iniciais: [0.34033299 0.94749701]\n",
            "somatorio: 0.3503329851060135\n",
            "\n",
            "\n",
            "saida inicial OK 1\n"
          ]
        }
      ]
    },
    {
      "cell_type": "code",
      "metadata": {
        "colab": {
          "base_uri": "https://localhost:8080/"
        },
        "id": "XBKldJnpL80R",
        "outputId": "fc1b2c3a-e45d-4952-cf5b-43290918e0ca"
      },
      "source": [
        "# Teste com entradas 0 e 1\n",
        "array3 = np.array([0,1])\n",
        "\n",
        "p3 = Perceptron(array1)"
      ],
      "execution_count": 46,
      "outputs": [
        {
          "output_type": "stream",
          "name": "stdout",
          "text": [
            "Relatorio Inicial\n",
            "inputs: [1 0]\n",
            "target: 1\n",
            "Pesos iniciais: [0.66652865 0.7319986 ]\n",
            "somatorio: 0.6765286515859193\n",
            "\n",
            "\n",
            "Relatorio Atualizado\n",
            "peso atualizado [0.49882643 0.7319986 ]\n",
            "somatorio atualizado 0.5088264325792959\n",
            "erro 0.2412514733327809\n",
            "saida atualizada 1\n",
            "\n",
            "\n",
            "Relatorio Atualizado\n",
            "peso atualizado [0.49044132 0.7319986 ]\n",
            "somatorio atualizado 0.5004413216289648\n",
            "erro 0.24955887313581537\n",
            "saida atualizada 1\n",
            "\n",
            "\n",
            "Relatorio Atualizado\n",
            "peso atualizado [0.49002207 0.7319986 ]\n",
            "somatorio atualizado 0.5000220660814482\n",
            "erro 0.2499779344054638\n",
            "saida atualizada 1\n",
            "\n",
            "\n",
            "Relatorio Atualizado\n",
            "peso atualizado [0.4900011 0.7319986]\n",
            "somatorio atualizado 0.5000011033040724\n",
            "erro 0.24999889669714484\n",
            "saida atualizada 1\n",
            "\n",
            "\n"
          ]
        }
      ]
    },
    {
      "cell_type": "code",
      "metadata": {
        "colab": {
          "base_uri": "https://localhost:8080/"
        },
        "id": "BpxzLla3L9w5",
        "outputId": "31182b4a-1117-4230-ff6d-baa8c1f98a97"
      },
      "source": [
        "# Teste com entradas 1 e 1\n",
        "array4 = np.array([1,1])\n",
        "\n",
        "p4 = Perceptron(array1)"
      ],
      "execution_count": 48,
      "outputs": [
        {
          "output_type": "stream",
          "name": "stdout",
          "text": [
            "Relatorio Inicial\n",
            "inputs: [1 0]\n",
            "target: 1\n",
            "Pesos iniciais: [0.85421611 0.357776  ]\n",
            "somatorio: 0.8642161090819551\n",
            "\n",
            "\n",
            "Relatorio Atualizado\n",
            "peso atualizado [0.50821081 0.357776  ]\n",
            "somatorio atualizado 0.5182108054540977\n",
            "erro 0.2321208279811893\n",
            "saida atualizada 1\n",
            "\n",
            "\n",
            "Relatorio Atualizado\n",
            "peso atualizado [0.49091054 0.357776  ]\n",
            "somatorio atualizado 0.5009105402727049\n",
            "erro 0.24909028881088335\n",
            "saida atualizada 1\n",
            "\n",
            "\n",
            "Relatorio Atualizado\n",
            "peso atualizado [0.49004553 0.357776  ]\n",
            "somatorio atualizado 0.5000455270136352\n",
            "erro 0.24995447505907373\n",
            "saida atualizada 1\n",
            "\n",
            "\n",
            "Relatorio Atualizado\n",
            "peso atualizado [0.49000228 0.357776  ]\n",
            "somatorio atualizado 0.5000022763506817\n",
            "erro 0.24999772365450004\n",
            "saida atualizada 1\n",
            "\n",
            "\n"
          ]
        }
      ]
    }
  ]
}